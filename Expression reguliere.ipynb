{
 "cells": [
  {
   "cell_type": "code",
   "execution_count": 13,
   "id": "3c30a2a1",
   "metadata": {},
   "outputs": [],
   "source": [
    "import re\n",
    "\n",
    "test1 = \"Nous allons tester le module re de Python\"\n",
    "test2 = \"Nous allons  tester le module re  de     Python\"\n",
    "test3 = \"Nous-allons-tester-le-module/re/de-Python\""
   ]
  },
  {
   "cell_type": "markdown",
   "id": "183b6c4f",
   "metadata": {},
   "source": [
    "## SPLIT DES DONNEES"
   ]
  },
  {
   "cell_type": "code",
   "execution_count": 4,
   "id": "d6013c37",
   "metadata": {},
   "outputs": [
    {
     "data": {
      "text/plain": [
       "['Nous', 'allons', 'tester', 'le', 'module', 're', 'de', 'Python']"
      ]
     },
     "execution_count": 4,
     "metadata": {},
     "output_type": "execute_result"
    }
   ],
   "source": [
    "# \\s : espace\n",
    "re.split('\\s', test1)"
   ]
  },
  {
   "cell_type": "code",
   "execution_count": 5,
   "id": "a36ea53f",
   "metadata": {},
   "outputs": [
    {
     "data": {
      "text/plain": [
       "['Nous',\n",
       " 'allons',\n",
       " '',\n",
       " 'tester',\n",
       " 'le',\n",
       " 'module',\n",
       " 're',\n",
       " '',\n",
       " 'de',\n",
       " '',\n",
       " '',\n",
       " '',\n",
       " '',\n",
       " 'Python']"
      ]
     },
     "execution_count": 5,
     "metadata": {},
     "output_type": "execute_result"
    }
   ],
   "source": [
    "# \\s : espace\n",
    "re.split('\\s', test2)"
   ]
  },
  {
   "cell_type": "code",
   "execution_count": 6,
   "id": "3bd5c818",
   "metadata": {},
   "outputs": [
    {
     "data": {
      "text/plain": [
       "['Nous', 'allons', 'tester', 'le', 'module', 're', 'de', 'Python']"
      ]
     },
     "execution_count": 6,
     "metadata": {},
     "output_type": "execute_result"
    }
   ],
   "source": [
    "# \\s : espace ajouter + ca veux dire c est pas un espace mais une chaine de espace\n",
    "re.split('\\s+', test2)"
   ]
  },
  {
   "cell_type": "code",
   "execution_count": 9,
   "id": "fa371ba3",
   "metadata": {},
   "outputs": [
    {
     "data": {
      "text/plain": [
       "['Nous-allons-tester-le-module/re/de-Python']"
      ]
     },
     "execution_count": 9,
     "metadata": {},
     "output_type": "execute_result"
    }
   ],
   "source": [
    "# \\s : espace ajouter + ca veux dire c est pas un espace mais une chaine de espace\n",
    "re.split('\\s+', test3)"
   ]
  },
  {
   "cell_type": "code",
   "execution_count": 14,
   "id": "f7e896b9",
   "metadata": {},
   "outputs": [
    {
     "data": {
      "text/plain": [
       "['Nous', 'allons', 'tester', 'le', 'module', 're', 'de', 'Python']"
      ]
     },
     "execution_count": 14,
     "metadata": {},
     "output_type": "execute_result"
    }
   ],
   "source": [
    "# \\W : utilisant les mots tous en excluant les caracteres speciaux \n",
    "# + ca veux dire c est pas un espace mais une chaine de espace\n",
    "re.split('\\W+', test3)"
   ]
  },
  {
   "cell_type": "markdown",
   "id": "32682f36",
   "metadata": {},
   "source": [
    "## Recherche des donnees"
   ]
  },
  {
   "cell_type": "code",
   "execution_count": 15,
   "id": "fd956398",
   "metadata": {},
   "outputs": [
    {
     "data": {
      "text/plain": [
       "['Nous', 'allons', 'tester', 'le', 'module', 're', 'de', 'Python']"
      ]
     },
     "execution_count": 15,
     "metadata": {},
     "output_type": "execute_result"
    }
   ],
   "source": [
    "re.findall('\\S+', test1)"
   ]
  },
  {
   "cell_type": "code",
   "execution_count": 16,
   "id": "566cc4da",
   "metadata": {},
   "outputs": [
    {
     "data": {
      "text/plain": [
       "['Nous', 'allons', 'tester', 'le', 'module', 're', 'de', 'Python']"
      ]
     },
     "execution_count": 16,
     "metadata": {},
     "output_type": "execute_result"
    }
   ],
   "source": [
    "re.findall('\\S+', test2)"
   ]
  },
  {
   "cell_type": "code",
   "execution_count": 17,
   "id": "9a3caac0",
   "metadata": {},
   "outputs": [
    {
     "data": {
      "text/plain": [
       "['Nous-allons-tester-le-module/re/de-Python']"
      ]
     },
     "execution_count": 17,
     "metadata": {},
     "output_type": "execute_result"
    }
   ],
   "source": [
    "re.findall('\\S+', test3)"
   ]
  },
  {
   "cell_type": "code",
   "execution_count": 20,
   "id": "5b0ab487",
   "metadata": {},
   "outputs": [
    {
     "data": {
      "text/plain": [
       "['Nous', 'allons', 'tester', 'le', 'module', 're', 'de', 'Python']"
      ]
     },
     "execution_count": 20,
     "metadata": {},
     "output_type": "execute_result"
    }
   ],
   "source": [
    "re.findall('\\w+', test3)"
   ]
  },
  {
   "cell_type": "markdown",
   "id": "3161ae1d",
   "metadata": {},
   "source": [
    "## Expression regulieres"
   ]
  },
  {
   "cell_type": "code",
   "execution_count": 21,
   "id": "c295451c",
   "metadata": {},
   "outputs": [],
   "source": [
    "test = \"Mon langage préféré est le langage PYTHON\""
   ]
  },
  {
   "cell_type": "code",
   "execution_count": 26,
   "id": "0de83cf6",
   "metadata": {},
   "outputs": [
    {
     "data": {
      "text/plain": [
       "['on', 'langage', 'préféré', 'est', 'le', 'langage']"
      ]
     },
     "execution_count": 26,
     "metadata": {},
     "output_type": "execute_result"
    }
   ],
   "source": [
    "re.findall('[a-z\\u00C0-\\u00FF]+', test)"
   ]
  },
  {
   "cell_type": "code",
   "execution_count": 29,
   "id": "348aa699",
   "metadata": {},
   "outputs": [
    {
     "data": {
      "text/plain": [
       "['Mon']"
      ]
     },
     "execution_count": 29,
     "metadata": {},
     "output_type": "execute_result"
    }
   ],
   "source": [
    "re.findall('[A-Z]+[a-z]+', test)"
   ]
  },
  {
   "cell_type": "code",
   "execution_count": 30,
   "id": "a00ab5b1",
   "metadata": {},
   "outputs": [
    {
     "data": {
      "text/plain": [
       "['Mon', 'PYTHON']"
      ]
     },
     "execution_count": 30,
     "metadata": {},
     "output_type": "execute_result"
    }
   ],
   "source": [
    "re.findall('[A-Z]+[a-z]*', test)"
   ]
  },
  {
   "cell_type": "code",
   "execution_count": 31,
   "id": "fa96ac96",
   "metadata": {},
   "outputs": [
    {
     "data": {
      "text/plain": [
       "'C++on langage préféré est le langage C++'"
      ]
     },
     "execution_count": 31,
     "metadata": {},
     "output_type": "execute_result"
    }
   ],
   "source": [
    "re.sub('[A-Z]+', 'C++', test)"
   ]
  },
  {
   "cell_type": "code",
   "execution_count": 34,
   "id": "2e642b1d",
   "metadata": {},
   "outputs": [
    {
     "data": {
      "text/plain": [
       "'Mon langage préféré est le langage C++'"
      ]
     },
     "execution_count": 34,
     "metadata": {},
     "output_type": "execute_result"
    }
   ],
   "source": [
    "re.sub('[A-Z]+[A-Z]+', 'C++', test)"
   ]
  },
  {
   "cell_type": "code",
   "execution_count": null,
   "id": "59e36461",
   "metadata": {},
   "outputs": [],
   "source": []
  }
 ],
 "metadata": {
  "kernelspec": {
   "display_name": "Python 3 (ipykernel)",
   "language": "python",
   "name": "python3"
  },
  "language_info": {
   "codemirror_mode": {
    "name": "ipython",
    "version": 3
   },
   "file_extension": ".py",
   "mimetype": "text/x-python",
   "name": "python",
   "nbconvert_exporter": "python",
   "pygments_lexer": "ipython3",
   "version": "3.9.7"
  }
 },
 "nbformat": 4,
 "nbformat_minor": 5
}
