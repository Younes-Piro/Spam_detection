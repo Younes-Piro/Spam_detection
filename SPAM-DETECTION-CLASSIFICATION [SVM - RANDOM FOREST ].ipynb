{
 "cells": [
  {
   "cell_type": "code",
   "execution_count": 1,
   "id": "668962ab",
   "metadata": {},
   "outputs": [],
   "source": [
    "import pandas as pd\n",
    "import nltk\n",
    "import re\n",
    "from sklearn.feature_extraction.text import CountVectorizer\n",
    "import string"
   ]
  },
  {
   "cell_type": "markdown",
   "id": "bc0b10a2",
   "metadata": {},
   "source": [
    "# SUPPORT VECTOR MACHINE"
   ]
  },
  {
   "cell_type": "code",
   "execution_count": 2,
   "id": "826e7377",
   "metadata": {},
   "outputs": [],
   "source": [
    "df = pd.read_csv(\"SMSSpamCollection.txt\", sep=\"\\t\", header=None,  names=[\"label\", \"Content\"])"
   ]
  },
  {
   "cell_type": "code",
   "execution_count": 3,
   "id": "03cb4ba9",
   "metadata": {},
   "outputs": [],
   "source": [
    "en_stopwords = nltk.corpus.stopwords.words('english')\n",
    "ps = nltk.PorterStemmer()\n",
    "data = df.copy()"
   ]
  },
  {
   "cell_type": "code",
   "execution_count": 4,
   "id": "d8ce40d4",
   "metadata": {},
   "outputs": [],
   "source": [
    "## count words in the email\n",
    "data['Content_len'] = data['Content'].apply(lambda x: len(x) - x.count(\" \"))"
   ]
  },
  {
   "cell_type": "code",
   "execution_count": 5,
   "id": "9dd2536e",
   "metadata": {},
   "outputs": [],
   "source": [
    "def count_punctuation(text):\n",
    "    binary_array = [1 for ch in text if ch in string.punctuation]\n",
    "    nb_punctuation = sum(binary_array)\n",
    "    total = len(text) - text.count(\" \")\n",
    "    return round(nb_punctuation/(total), 4)*100 "
   ]
  },
  {
   "cell_type": "code",
   "execution_count": 6,
   "id": "b9a790a3",
   "metadata": {},
   "outputs": [],
   "source": [
    "# Count the rate of punctuation in email\n",
    "data['punctuation_rate'] = data['Content'].apply(lambda x : count_punctuation(x))"
   ]
  },
  {
   "cell_type": "code",
   "execution_count": 7,
   "id": "e36ac32a",
   "metadata": {},
   "outputs": [],
   "source": [
    "## cleaning and stemming emails\n",
    "def clean_email(email):\n",
    "    result = \"\".join([word for word in email if word not in string.punctuation])\n",
    "    tokens = re.split('\\W+', result)\n",
    "    final_result = [ps.stem(word) for word in tokens if word not in en_stopwords]\n",
    "    return final_result"
   ]
  },
  {
   "cell_type": "markdown",
   "id": "1304c7bf",
   "metadata": {},
   "source": [
    "## SVM WITH COUNTVECTORIZER"
   ]
  },
  {
   "cell_type": "code",
   "execution_count": 9,
   "id": "9ad42b34",
   "metadata": {},
   "outputs": [],
   "source": [
    "# Vectorisation using CountVectorizer\n",
    "vectorisation_full = CountVectorizer(analyzer=clean_email)\n",
    "vect_fnal = vectorisation_full.fit_transform(data['Content'])"
   ]
  },
  {
   "cell_type": "code",
   "execution_count": 10,
   "id": "52220751",
   "metadata": {},
   "outputs": [],
   "source": [
    "## creating new dataframe with all the information that we need\n",
    "all_data = pd.concat([pd.DataFrame(vect_fnal.toarray()),data['Content_len'], data['punctuation_rate']], axis=1)"
   ]
  },
  {
   "cell_type": "code",
   "execution_count": 8,
   "id": "262c6941",
   "metadata": {},
   "outputs": [],
   "source": [
    "from sklearn.metrics import precision_recall_fscore_support as score\n",
    "from sklearn.model_selection import train_test_split\n",
    "from sklearn.metrics import accuracy_score\n",
    "from sklearn.metrics import precision_score, recall_score, confusion_matrix, f1_score"
   ]
  },
  {
   "cell_type": "code",
   "execution_count": 25,
   "id": "fd7780e1",
   "metadata": {},
   "outputs": [],
   "source": [
    "X_train, X_test, y_train, y_test = train_test_split(all_data,\n",
    "                                                   data['label'],\n",
    "                                                   test_size=0.2)"
   ]
  },
  {
   "cell_type": "code",
   "execution_count": 11,
   "id": "46b89e47",
   "metadata": {},
   "outputs": [],
   "source": [
    "from sklearn import svm"
   ]
  },
  {
   "cell_type": "code",
   "execution_count": 28,
   "id": "7a80fc6d",
   "metadata": {},
   "outputs": [
    {
     "data": {
      "text/plain": [
       "SVC(kernel='linear')"
      ]
     },
     "execution_count": 28,
     "metadata": {},
     "output_type": "execute_result"
    }
   ],
   "source": [
    "alg_svm = svm.SVC(kernel= 'linear')\n",
    "alg_svm.fit(X_train, y_train)"
   ]
  },
  {
   "cell_type": "code",
   "execution_count": 29,
   "id": "2ac99cbf",
   "metadata": {},
   "outputs": [],
   "source": [
    "predictions = alg_svm.predict(X_test)"
   ]
  },
  {
   "cell_type": "code",
   "execution_count": 30,
   "id": "d4711b77",
   "metadata": {},
   "outputs": [
    {
     "data": {
      "text/plain": [
       "array(['ham', 'ham', 'ham', ..., 'ham', 'spam', 'ham'], dtype=object)"
      ]
     },
     "execution_count": 30,
     "metadata": {},
     "output_type": "execute_result"
    }
   ],
   "source": [
    "predictions"
   ]
  },
  {
   "cell_type": "code",
   "execution_count": 31,
   "id": "b0a44951",
   "metadata": {},
   "outputs": [
    {
     "data": {
      "text/plain": [
       "1115"
      ]
     },
     "execution_count": 31,
     "metadata": {},
     "output_type": "execute_result"
    }
   ],
   "source": [
    "len(predictions)"
   ]
  },
  {
   "cell_type": "code",
   "execution_count": 34,
   "id": "d548a14a",
   "metadata": {},
   "outputs": [],
   "source": [
    "precision, recall, fscore, _ = score(y_test, predictions, pos_label='spam', average='binary')"
   ]
  },
  {
   "cell_type": "code",
   "execution_count": 37,
   "id": "06f1cfcb",
   "metadata": {},
   "outputs": [
    {
     "name": "stdout",
     "output_type": "stream",
     "text": [
      "Precission: 0.979 / Recall: 0.89 / Accuracy : 0.982\n"
     ]
    }
   ],
   "source": [
    "print('Precission: {} / Recall: {} / Accuracy : {}'.format(round(precision, 3),\n",
    "                                                          round(recall, 3),\n",
    "                                                          round((predictions==y_test).sum()/len(predictions),3)))"
   ]
  },
  {
   "cell_type": "code",
   "execution_count": 27,
   "id": "a62471c3",
   "metadata": {},
   "outputs": [],
   "source": [
    "def generate_model_report(y_actual, y_predicted):\n",
    "    print(\"Accuracy = \" , accuracy_score(y_actual, y_predicted))\n",
    "    print(\"Precision = \" ,precision_score(y_actual, y_predicted, pos_label='spam'))\n",
    "    print(\"Recall = \" ,recall_score(y_actual, y_predicted, pos_label='spam'))\n",
    "    print(\"F1 Score = \" ,f1_score(y_actual, y_predicted, pos_label='spam'))\n",
    "    pass"
   ]
  },
  {
   "cell_type": "code",
   "execution_count": 48,
   "id": "299f2682",
   "metadata": {
    "scrolled": true
   },
   "outputs": [
    {
     "name": "stdout",
     "output_type": "stream",
     "text": [
      "Accuracy =  0.9820627802690582\n",
      "Precision =  0.9785714285714285\n",
      "Recall =  0.8896103896103896\n",
      "F1 Score =  0.9319727891156462\n"
     ]
    }
   ],
   "source": [
    "generate_model_report(y_test, predictions)"
   ]
  },
  {
   "cell_type": "markdown",
   "id": "ad80000a",
   "metadata": {},
   "source": [
    "* **With CROSS-VALIATION**"
   ]
  },
  {
   "cell_type": "code",
   "execution_count": 12,
   "id": "5ade0707",
   "metadata": {},
   "outputs": [],
   "source": [
    "from sklearn.model_selection import KFold, cross_val_score"
   ]
  },
  {
   "cell_type": "code",
   "execution_count": 13,
   "id": "60cba097",
   "metadata": {},
   "outputs": [],
   "source": [
    "alg_svm_cross_validation = svm.SVC(kernel = 'linear')\n",
    "\n",
    "k_fold = KFold(n_splits=4)\n",
    "cross = cross_val_score(alg_svm_cross_validation, all_data, data['label'], cv=k_fold, scoring='accuracy', n_jobs=-1)"
   ]
  },
  {
   "cell_type": "code",
   "execution_count": 14,
   "id": "93543a51",
   "metadata": {},
   "outputs": [
    {
     "data": {
      "text/plain": [
       "array([0.97774587, 0.9856425 , 0.9798995 , 0.98420675])"
      ]
     },
     "execution_count": 14,
     "metadata": {},
     "output_type": "execute_result"
    }
   ],
   "source": [
    "cross"
   ]
  },
  {
   "cell_type": "code",
   "execution_count": 15,
   "id": "3afc4720",
   "metadata": {},
   "outputs": [
    {
     "data": {
      "text/plain": [
       "0.9818736539842067"
      ]
     },
     "execution_count": 15,
     "metadata": {},
     "output_type": "execute_result"
    }
   ],
   "source": [
    "cross.mean()"
   ]
  },
  {
   "cell_type": "markdown",
   "id": "3ce8ab3b",
   "metadata": {},
   "source": [
    "## SVM WITH TF-IDF"
   ]
  },
  {
   "cell_type": "code",
   "execution_count": 17,
   "id": "8fe3dfa1",
   "metadata": {},
   "outputs": [],
   "source": [
    "from sklearn.feature_extraction.text import TfidfVectorizer"
   ]
  },
  {
   "cell_type": "code",
   "execution_count": 20,
   "id": "27add203",
   "metadata": {},
   "outputs": [],
   "source": [
    "# Vectorisation using TfidfVectorizer\n",
    "vectorisation_full = TfidfVectorizer(analyzer=clean_email)\n",
    "vect_fnal = vectorisation_full.fit_transform(data['Content'])"
   ]
  },
  {
   "cell_type": "code",
   "execution_count": 21,
   "id": "07665c3b",
   "metadata": {},
   "outputs": [],
   "source": [
    "## creating new dataframe with all the information that we need\n",
    "all_data2 = pd.concat([pd.DataFrame(vect_fnal.toarray()),data['Content_len'], data['punctuation_rate']], axis=1)"
   ]
  },
  {
   "cell_type": "code",
   "execution_count": 23,
   "id": "e66d7a85",
   "metadata": {},
   "outputs": [],
   "source": [
    "X_train, X_test, y_train, y_test = train_test_split(all_data2,\n",
    "                                                   data['label'],\n",
    "                                                   test_size=0.2)"
   ]
  },
  {
   "cell_type": "code",
   "execution_count": 24,
   "id": "9f295326",
   "metadata": {},
   "outputs": [
    {
     "data": {
      "text/plain": [
       "SVC(kernel='linear')"
      ]
     },
     "execution_count": 24,
     "metadata": {},
     "output_type": "execute_result"
    }
   ],
   "source": [
    "alg_svm = svm.SVC(kernel= 'linear')\n",
    "alg_svm.fit(X_train, y_train)"
   ]
  },
  {
   "cell_type": "code",
   "execution_count": 25,
   "id": "aa64a7ce",
   "metadata": {},
   "outputs": [],
   "source": [
    "predictions = alg_svm.predict(X_test)"
   ]
  },
  {
   "cell_type": "code",
   "execution_count": 28,
   "id": "0fb90728",
   "metadata": {},
   "outputs": [
    {
     "name": "stdout",
     "output_type": "stream",
     "text": [
      "Accuracy =  0.9838565022421525\n",
      "Precision =  1.0\n",
      "Recall =  0.88\n",
      "F1 Score =  0.9361702127659575\n"
     ]
    }
   ],
   "source": [
    "generate_model_report(y_test, predictions)"
   ]
  },
  {
   "cell_type": "markdown",
   "id": "979be305",
   "metadata": {},
   "source": [
    "# RANDOM FOREST"
   ]
  },
  {
   "cell_type": "code",
   "execution_count": 29,
   "id": "8570d6c1",
   "metadata": {},
   "outputs": [],
   "source": [
    "X_train, X_test, y_train, y_test = train_test_split(all_data,\n",
    "                                                   data['label'],\n",
    "                                                   test_size=0.2)"
   ]
  },
  {
   "cell_type": "code",
   "execution_count": 31,
   "id": "47997ec0",
   "metadata": {},
   "outputs": [],
   "source": [
    "from sklearn.ensemble import RandomForestClassifier\n",
    "\n",
    "alg_RandomForest = RandomForestClassifier(n_estimators=50, max_depth=20, n_jobs=-1)\n",
    "model = alg_RandomForest.fit(X_train, y_train)"
   ]
  },
  {
   "cell_type": "code",
   "execution_count": 32,
   "id": "96f98baf",
   "metadata": {},
   "outputs": [],
   "source": [
    "predictions = model.predict(X_test)"
   ]
  },
  {
   "cell_type": "code",
   "execution_count": 33,
   "id": "a2a05186",
   "metadata": {},
   "outputs": [
    {
     "name": "stdout",
     "output_type": "stream",
     "text": [
      "Accuracy =  0.9345291479820628\n",
      "Precision =  1.0\n",
      "Recall =  0.54375\n",
      "F1 Score =  0.7044534412955465\n"
     ]
    }
   ],
   "source": [
    "generate_model_report(y_test, predictions)"
   ]
  },
  {
   "cell_type": "markdown",
   "id": "2495db7d",
   "metadata": {},
   "source": [
    "* **With CROSS-VALIATION**"
   ]
  },
  {
   "cell_type": "code",
   "execution_count": 34,
   "id": "4ceb4e21",
   "metadata": {},
   "outputs": [],
   "source": [
    "from sklearn.model_selection import KFold, cross_val_score"
   ]
  },
  {
   "cell_type": "code",
   "execution_count": 35,
   "id": "7ca1e5a9",
   "metadata": {},
   "outputs": [],
   "source": [
    "alg_RandomForest = RandomForestClassifier(n_estimators=50, max_depth=20, n_jobs=-1)\n",
    "\n",
    "k_fold = KFold(n_splits=4)\n",
    "cross = cross_val_score(alg_RandomForest, all_data, data['label'], cv=k_fold, scoring='accuracy', n_jobs=-1)"
   ]
  },
  {
   "cell_type": "code",
   "execution_count": 36,
   "id": "4918bd96",
   "metadata": {},
   "outputs": [
    {
     "data": {
      "text/plain": [
       "array([0.94831299, 0.94544149, 0.93826274, 0.94400574])"
      ]
     },
     "execution_count": 36,
     "metadata": {},
     "output_type": "execute_result"
    }
   ],
   "source": [
    "cross"
   ]
  },
  {
   "cell_type": "code",
   "execution_count": 37,
   "id": "b20c6180",
   "metadata": {},
   "outputs": [
    {
     "data": {
      "text/plain": [
       "0.9440057430007178"
      ]
     },
     "execution_count": 37,
     "metadata": {},
     "output_type": "execute_result"
    }
   ],
   "source": [
    "cross.mean()"
   ]
  },
  {
   "cell_type": "markdown",
   "id": "f5ac7b03",
   "metadata": {},
   "source": [
    "* **Hyper parameters tunning**"
   ]
  },
  {
   "cell_type": "code",
   "execution_count": 39,
   "id": "c300d70a",
   "metadata": {},
   "outputs": [],
   "source": [
    "from sklearn.model_selection import GridSearchCV"
   ]
  },
  {
   "cell_type": "code",
   "execution_count": null,
   "id": "88bc2682",
   "metadata": {},
   "outputs": [],
   "source": [
    "alg_svm_params = svm.SVC()\n",
    "params = {'kernel': ['linear', 'rbf'],\n",
    "          'gamma': [0.01, 0.001]}\n",
    "hyper_params_grid = GridSearchCV(alg_svm_params, param_grid=params, cv=4, n_jobs=-1)\n",
    "hyper_params_models = hyper_params_grid.fit(all_data, data['label'])"
   ]
  },
  {
   "cell_type": "code",
   "execution_count": null,
   "id": "7c351862",
   "metadata": {},
   "outputs": [],
   "source": [
    "pd.DataFrame(hyper_params_models)"
   ]
  }
 ],
 "metadata": {
  "kernelspec": {
   "display_name": "Python 3 (ipykernel)",
   "language": "python",
   "name": "python3"
  },
  "language_info": {
   "codemirror_mode": {
    "name": "ipython",
    "version": 3
   },
   "file_extension": ".py",
   "mimetype": "text/x-python",
   "name": "python",
   "nbconvert_exporter": "python",
   "pygments_lexer": "ipython3",
   "version": "3.9.7"
  }
 },
 "nbformat": 4,
 "nbformat_minor": 5
}
